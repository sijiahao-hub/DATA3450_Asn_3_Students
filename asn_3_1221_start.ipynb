{
 "cells": [
  {
   "cell_type": "code",
   "execution_count": 2,
   "metadata": {},
   "outputs": [],
   "source": [
    "#import thinkplot\n",
    "#import thinkstats2\n",
    "import pandas as pd\n",
    "import numpy as np\n",
    "import math\n",
    "import scipy.stats as ss\n",
    "import thinkplot\n",
    "import thinkstats2\n",
    "from sklearn.metrics import mean_squared_error\n",
    "from sklearn.linear_model import LinearRegression\n",
    "from sklearn.model_selection import train_test_split\n",
    "\n",
    "##Seaborn for fancy plots. \n",
    "import matplotlib.pyplot as plt\n",
    "import seaborn as sns\n",
    "plt.rcParams[\"figure.figsize\"] = (15,5)"
   ]
  },
  {
   "cell_type": "markdown",
   "metadata": {},
   "source": [
    "# Assignment 3 - Basic Predictions and Regression"
   ]
  },
  {
   "cell_type": "markdown",
   "metadata": {},
   "source": [
    "## Questions\n",
    "\n",
    "### Part 1 - Election Prediction\n",
    "\n",
    "Suppose you are looking at an election in a fictional province. There are 7 total elctoral districts, and the winner in each district is determined by a first-past-the-post system (what we have in Canada - the most votes wins, regardless of share). There are two parties - the Purples and the Yellows. Whoever controls the most seats will be the ruling party - so in our 2 party scenario, the party who wins 4 or more of the districts will govern. There is an election every year, they love voting. \n",
    "\n",
    "Recent polling indicating the expected vote share in each district is shown in the \"dist_polls\" table below. These values are a composite of several polls that the experts have combined and weighted. The \"Purple\" values show the expected vote share of the Purple party, along with the variance of that expectation and the number of polls that were combined to get that result.  \n",
    "\n",
    "As well, research has shown that the vote distribution is impacted by voter turnout. In general, the more people vote, the more the vote split shifts towards the Yellow party. We have data on past elections and the results, we expect that the turnout will be in line with the past elections - or more specifically, we have no reason to expect it to differ. This impact is measured in the table in code below - that table shows the voter turnout, in a percentage, as well as the change in the Yellow party's vote share (also in percentage) as compared to the polling averages. For example, if one row showed \"52\" and \".8\", that would mean that voter turnout was 52%, and the Yellow party got .8% higher of a vote share than the polling showed. \n",
    "\n",
    "<b>What is the probability that the Purple Party controls the government after the election?</b>\n",
    "\n",
    "<b>Note:</b> the errors and confidence intervals are not totally trivial. As part of the written answer, offer an evaluation of your confidence in the prediction, and why you think that. This is not a question with one specific error, your estimation will have some expected errors, somewhere. You may not have the tools to calculate it all the way through, that's fine. "
   ]
  },
  {
   "cell_type": "markdown",
   "metadata": {},
   "source": [
    "### Question 1 - Your Answer in English\n",
    "\n",
    "Please fill in (and extend if required) the list here to explain what you did. There are multiple reasonable things you could do to approach this, so please note what you did here. For most people I assume this will be about 3-5 statements - you don't need to explain the internals of things we covered (e.g. if there's a hypothesis test, you don't need to explain how that works), just how you structured your approach to the problem. \n",
    "\n",
    "<ul>\n",
    "<li>\n",
    "<li>\n",
    "<li>\n",
    "<li> <b> What do you think about the error/accuracy:</b>\n",
    "</ul>"
   ]
  },
  {
   "cell_type": "markdown",
   "metadata": {},
   "source": [
    "1, Establish probability for 7 individual elections goes for Yellow and Purple (how people going to vote)\n",
    "\n",
    "2, Do some simulation (underline distribution, probability of either sides)\n",
    "\n",
    "3, Sample size check (analytical distribution, calculating odds for each district)\n",
    "\n",
    "4, Predict the winner\n"
   ]
  },
  {
   "cell_type": "markdown",
   "metadata": {},
   "source": [
    "spliting the data to train and predict, dummie run"
   ]
  },
  {
   "cell_type": "markdown",
   "metadata": {},
   "source": [
    "##### Setup Poll Data\n",
    "\n",
    "The dataframe \"dist_polls\" contains all of the polls for each seat. Each value is expressed as expected vote share (as a ratio) for the <b>Purple</b> party. The Yellow party can be safely assumed to get the rest of the votes. "
   ]
  },
  {
   "cell_type": "code",
   "execution_count": 3,
   "metadata": {},
   "outputs": [
    {
     "data": {
      "text/html": [
       "<div>\n",
       "<style scoped>\n",
       "    .dataframe tbody tr th:only-of-type {\n",
       "        vertical-align: middle;\n",
       "    }\n",
       "\n",
       "    .dataframe tbody tr th {\n",
       "        vertical-align: top;\n",
       "    }\n",
       "\n",
       "    .dataframe thead th {\n",
       "        text-align: right;\n",
       "    }\n",
       "</style>\n",
       "<table border=\"1\" class=\"dataframe\">\n",
       "  <thead>\n",
       "    <tr style=\"text-align: right;\">\n",
       "      <th></th>\n",
       "      <th>district</th>\n",
       "      <th>Poll_1</th>\n",
       "      <th>Poll_2</th>\n",
       "      <th>Poll_3</th>\n",
       "      <th>Poll_4</th>\n",
       "      <th>Poll_5</th>\n",
       "      <th>Poll_6</th>\n",
       "      <th>Poll_7</th>\n",
       "      <th>Poll_8</th>\n",
       "      <th>Poll_9</th>\n",
       "    </tr>\n",
       "  </thead>\n",
       "  <tbody>\n",
       "    <tr>\n",
       "      <th>0</th>\n",
       "      <td>1</td>\n",
       "      <td>0.55</td>\n",
       "      <td>0.53</td>\n",
       "      <td>0.51</td>\n",
       "      <td>0.47</td>\n",
       "      <td>0.61</td>\n",
       "      <td>0.54</td>\n",
       "      <td>0.55</td>\n",
       "      <td>0.53</td>\n",
       "      <td>0.57</td>\n",
       "    </tr>\n",
       "    <tr>\n",
       "      <th>1</th>\n",
       "      <td>2</td>\n",
       "      <td>0.49</td>\n",
       "      <td>0.51</td>\n",
       "      <td>0.49</td>\n",
       "      <td>0.48</td>\n",
       "      <td>0.52</td>\n",
       "      <td>0.45</td>\n",
       "      <td>0.47</td>\n",
       "      <td>0.49</td>\n",
       "      <td>0.39</td>\n",
       "    </tr>\n",
       "    <tr>\n",
       "      <th>2</th>\n",
       "      <td>3</td>\n",
       "      <td>0.51</td>\n",
       "      <td>0.51</td>\n",
       "      <td>0.53</td>\n",
       "      <td>0.51</td>\n",
       "      <td>0.49</td>\n",
       "      <td>0.51</td>\n",
       "      <td>0.50</td>\n",
       "      <td>0.51</td>\n",
       "      <td>0.52</td>\n",
       "    </tr>\n",
       "    <tr>\n",
       "      <th>3</th>\n",
       "      <td>4</td>\n",
       "      <td>0.60</td>\n",
       "      <td>0.62</td>\n",
       "      <td>0.61</td>\n",
       "      <td>0.54</td>\n",
       "      <td>0.73</td>\n",
       "      <td>0.61</td>\n",
       "      <td>0.56</td>\n",
       "      <td>0.55</td>\n",
       "      <td>0.57</td>\n",
       "    </tr>\n",
       "    <tr>\n",
       "      <th>4</th>\n",
       "      <td>5</td>\n",
       "      <td>0.41</td>\n",
       "      <td>0.44</td>\n",
       "      <td>0.42</td>\n",
       "      <td>0.45</td>\n",
       "      <td>0.44</td>\n",
       "      <td>0.47</td>\n",
       "      <td>0.47</td>\n",
       "      <td>0.43</td>\n",
       "      <td>0.53</td>\n",
       "    </tr>\n",
       "  </tbody>\n",
       "</table>\n",
       "</div>"
      ],
      "text/plain": [
       "   district  Poll_1  Poll_2  Poll_3  Poll_4  Poll_5  Poll_6  Poll_7  Poll_8  \\\n",
       "0         1    0.55    0.53    0.51    0.47    0.61    0.54    0.55    0.53   \n",
       "1         2    0.49    0.51    0.49    0.48    0.52    0.45    0.47    0.49   \n",
       "2         3    0.51    0.51    0.53    0.51    0.49    0.51    0.50    0.51   \n",
       "3         4    0.60    0.62    0.61    0.54    0.73    0.61    0.56    0.55   \n",
       "4         5    0.41    0.44    0.42    0.45    0.44    0.47    0.47    0.43   \n",
       "\n",
       "   Poll_9  \n",
       "0    0.57  \n",
       "1    0.39  \n",
       "2    0.52  \n",
       "3    0.57  \n",
       "4    0.53  "
      ]
     },
     "execution_count": 3,
     "metadata": {},
     "output_type": "execute_result"
    }
   ],
   "source": [
    "# Please don't edit this part. \n",
    "# Setup polling data. \n",
    "districts = [1,2,3,4,5,6,7]\n",
    "dist_polls = pd.DataFrame(districts, columns={\"district\"})\n",
    "\n",
    "dist_polls[\"Poll_1\"] = [.55, .49, .51, .6, .41, .46, .54]\n",
    "dist_polls[\"Poll_2\"] = [.53, .51, .51, .62, .44, .48, .53]\n",
    "dist_polls[\"Poll_3\"] = [.51, .49, .53, .61, .42, .46, .52]\n",
    "dist_polls[\"Poll_4\"] = [.47, .48, .51, .54, .45, .45, .51]\n",
    "dist_polls[\"Poll_5\"] = [.61, .52, .49, .73, .44, .51, .53]\n",
    "dist_polls[\"Poll_6\"] = [.54, .45, .51, .61, .47, .52, .52]\n",
    "dist_polls[\"Poll_7\"] = [.55, .47, .5, .56, .47, .46, .56]\n",
    "dist_polls[\"Poll_8\"] = [.53, .49, .51, .55, .43, .49, .55]\n",
    "dist_polls[\"Poll_9\"] = [.57, .39, .52, .57, .53, .43, .53]\n",
    "\n",
    "\n",
    "dist_polls.head()"
   ]
  },
  {
   "cell_type": "markdown",
   "metadata": {},
   "source": [
    "##### Setup Turnout Data\n",
    "\n",
    "The dataframe \"past_vte_table\" shows the voter turnout, along with the impact on the votes counted for the <b>Yellow party</b>, all expressed as percentages. For example, if in one row the turnout is .45 and the Yellow_improvement is -.04, that means that 45% of the populace turned out to vote, and the Yellow party got 4% fewer votes than polling indicated. "
   ]
  },
  {
   "cell_type": "code",
   "execution_count": 4,
   "metadata": {},
   "outputs": [
    {
     "data": {
      "text/html": [
       "<div>\n",
       "<style scoped>\n",
       "    .dataframe tbody tr th:only-of-type {\n",
       "        vertical-align: middle;\n",
       "    }\n",
       "\n",
       "    .dataframe tbody tr th {\n",
       "        vertical-align: top;\n",
       "    }\n",
       "\n",
       "    .dataframe thead th {\n",
       "        text-align: right;\n",
       "    }\n",
       "</style>\n",
       "<table border=\"1\" class=\"dataframe\">\n",
       "  <thead>\n",
       "    <tr style=\"text-align: right;\">\n",
       "      <th></th>\n",
       "      <th>voter_turn_percentage</th>\n",
       "      <th>Yellow_improvement</th>\n",
       "      <th>year</th>\n",
       "    </tr>\n",
       "  </thead>\n",
       "  <tbody>\n",
       "    <tr>\n",
       "      <th>0</th>\n",
       "      <td>0.53</td>\n",
       "      <td>0.012</td>\n",
       "      <td>2013</td>\n",
       "    </tr>\n",
       "    <tr>\n",
       "      <th>1</th>\n",
       "      <td>0.51</td>\n",
       "      <td>0.023</td>\n",
       "      <td>2014</td>\n",
       "    </tr>\n",
       "    <tr>\n",
       "      <th>2</th>\n",
       "      <td>0.48</td>\n",
       "      <td>-0.017</td>\n",
       "      <td>2015</td>\n",
       "    </tr>\n",
       "    <tr>\n",
       "      <th>3</th>\n",
       "      <td>0.55</td>\n",
       "      <td>0.031</td>\n",
       "      <td>2016</td>\n",
       "    </tr>\n",
       "    <tr>\n",
       "      <th>4</th>\n",
       "      <td>0.54</td>\n",
       "      <td>0.030</td>\n",
       "      <td>2017</td>\n",
       "    </tr>\n",
       "  </tbody>\n",
       "</table>\n",
       "</div>"
      ],
      "text/plain": [
       "   voter_turn_percentage  Yellow_improvement  year\n",
       "0                   0.53               0.012  2013\n",
       "1                   0.51               0.023  2014\n",
       "2                   0.48              -0.017  2015\n",
       "3                   0.55               0.031  2016\n",
       "4                   0.54               0.030  2017"
      ]
     },
     "execution_count": 4,
     "metadata": {},
     "output_type": "execute_result"
    }
   ],
   "source": [
    "# Please don't edit this part. \n",
    "# Setup vote data. \n",
    "voter_turnout_history = [.53, .51, .48, .55, .54, .59, .49, .57, .56]\n",
    "past_vote_table = pd.DataFrame(voter_turnout_history, columns={\"voter_turn_percentage\"})\n",
    "past_vote_table[\"Yellow_improvement\"] = [.012, .023, -.017, .031, .030, -.004, -.03, .042, .029]\n",
    "past_vote_table[\"year\"] = [2013, 2014, 2015, 2016, 2017, 2018, 2019, 2020, 2021]\n",
    "past_vote_table.head()"
   ]
  },
  {
   "cell_type": "markdown",
   "metadata": {},
   "source": [
    "## Start Your Work\n",
    "\n",
    "### Part 1 - Election"
   ]
  },
  {
   "cell_type": "code",
   "execution_count": 5,
   "metadata": {},
   "outputs": [
    {
     "name": "stdout",
     "output_type": "stream",
     "text": [
      "Purple Prob: 0.49333333333333335\n",
      "Yellow Prob: 0.5066666666666667\n"
     ]
    }
   ],
   "source": [
    "# Do some stuff\n",
    "# turnover = 60%\n",
    "# turnoverP + (turnoverP + 0.8%) = 60%\n",
    "# turnoverP = 29.6%\n",
    "# turnoverY = 30.4%\n",
    "probP = 0.296/0.6\n",
    "probY = 0.304/0.6\n",
    "print(\"Purple Prob:\", probP)\n",
    "print(\"Yellow Prob:\", probY)"
   ]
  },
  {
   "cell_type": "code",
   "execution_count": 6,
   "metadata": {},
   "outputs": [
    {
     "data": {
      "text/plain": [
       "1"
      ]
     },
     "execution_count": 6,
     "metadata": {},
     "output_type": "execute_result"
    }
   ],
   "source": [
    "# Generate one vote for Purple\n",
    "def oneVote(probCalc):\n",
    "    vote = np.random.binomial(n=1, p=probCalc)\n",
    "    return vote \n",
    "\n",
    "oneVote(probP)"
   ]
  },
  {
   "cell_type": "code",
   "execution_count": 7,
   "metadata": {},
   "outputs": [],
   "source": [
    "def getSample(voteProb, n=1000):\n",
    "    vote_list = []\n",
    "    for i in range(n):\n",
    "        vote_list.append(oneVote(voteProb))\n",
    "    return vote_list"
   ]
  },
  {
   "cell_type": "code",
   "execution_count": 8,
   "metadata": {},
   "outputs": [
    {
     "data": {
      "text/plain": [
       "0.4966"
      ]
     },
     "execution_count": 8,
     "metadata": {},
     "output_type": "execute_result"
    }
   ],
   "source": [
    "# check the vote we generate if it match with the probability of Purple\n",
    "tmp = getSample(probP, 5000)\n",
    "np.mean(tmp)"
   ]
  },
  {
   "cell_type": "code",
   "execution_count": 9,
   "metadata": {},
   "outputs": [],
   "source": [
    "# Simulation of Purple:\n",
    "\n",
    "def getSamples(voteProb, n=1000, samples=100, ciLow=2.5, ciHi=97.5):\n",
    "    meanList = []\n",
    "    for i in range(samples):\n",
    "        meanList.append(np.mean(getSample(voteProb, n)))\n",
    "    muList = [voteProb] * samples\n",
    "    cdf = thinkstats2.Cdf(meanList) \n",
    "    ci = cdf.Percentile(ciLow), cdf.Percentile(ciHi) \n",
    "    stderr = mean_squared_error(meanList, muList, squared=False)\n",
    "    return meanList, stderr, cdf, ci"
   ]
  },
  {
   "cell_type": "code",
   "execution_count": 10,
   "metadata": {},
   "outputs": [
    {
     "data": {
      "text/plain": [
       "([0.505, 0.475, 0.515, 0.523, 0.507, 0.483, 0.495],\n",
       " 0.017395036694048734,\n",
       " Cdf([0.475 0.483 0.495 0.505 0.507 0.515 0.523], [0.14285714 0.28571429 0.42857143 0.57142857 0.71428571 0.85714286\n",
       "  1.        ]),\n",
       " (0.475, 0.523))"
      ]
     },
     "execution_count": 10,
     "metadata": {},
     "output_type": "execute_result"
    }
   ],
   "source": [
    "getSamples(probP, 1000, 7)\n"
   ]
  },
  {
   "cell_type": "code",
   "execution_count": 11,
   "metadata": {},
   "outputs": [
    {
     "name": "stdout",
     "output_type": "stream",
     "text": [
      "Error: 0.1636391694484477\n",
      "Error: 0.048347124469242685\n",
      "Error: 0.01551980813168915\n",
      "Error: 0.0048358120081096806\n",
      "Error: 0.0016842161711345452\n"
     ]
    },
    {
     "data": {
      "image/png": "[encoded data removed]",
      "text/plain": [
       "<Figure size 1152x720 with 5 Axes>"
      ]
     },
     "metadata": {
      "needs_background": "light"
     },
     "output_type": "display_data"
    }
   ],
   "source": [
    "# Calculating Error to see if the prediction is accurate:\n",
    "countHist = 5\n",
    "nVals = [10,100,1000,10000,100000,1000000]  \n",
    "thinkplot.PrePlot(6,rows=2,cols=3)\n",
    "samples = 100\n",
    "\n",
    "for i in range(countHist):\n",
    "    tmpH, err, cdf, ci = getSamples(probP, nVals[i], samples)\n",
    "    thinkplot.SubPlot(i+1)\n",
    "    sns.kdeplot(tmpH).set(xlim=(0,1))\n",
    "    print(\"Error:\", err)\n",
    "thinkplot.Config()"
   ]
  },
  {
   "cell_type": "markdown",
   "metadata": {},
   "source": [
    "### The error is getting smaller and smaller when our sample size increases. Relevant sample size we can use to predict is between 100 to 1000. I choose 600 as our sample size for the following prediction, which the error is low enough for the prediction. "
   ]
  },
  {
   "cell_type": "code",
   "execution_count": 15,
   "metadata": {},
   "outputs": [
    {
     "name": "stdout",
     "output_type": "stream",
     "text": [
      "0.348\n"
     ]
    },
    {
     "data": {
      "image/png": "[encoded data removed]",
      "text/plain": [
       "<Figure size 1080x360 with 1 Axes>"
      ]
     },
     "metadata": {
      "needs_background": "light"
     },
     "output_type": "display_data"
    }
   ],
   "source": [
    "# Calculate the probability of Purple party to win the election:\n",
    "\n",
    "trials = 1000\n",
    "means, err, cdfFin, ciFin = getSamples(probP, n=600, samples=trials)  \n",
    "lowest = means - err\n",
    "highest = means + err\n",
    "pWins = 0 \n",
    "for i in range(len(means)):\n",
    "    if means[i] > .5000:\n",
    "        pWins = pWins + 1\n",
    "print(pWins/trials)\n",
    "\n",
    "sns.kdeplot(means)\n",
    "sns.kdeplot(lowest)\n",
    "sns.kdeplot(highest)\n",
    "thinkplot.axvline(.5, color=\"red\")"
   ]
  },
  {
   "cell_type": "code",
   "execution_count": 16,
   "metadata": {},
   "outputs": [
    {
     "name": "stdout",
     "output_type": "stream",
     "text": [
      "Fraction of Scenarios where Purple wins is 34.8% \n",
      "We are 95 percent confident that Purple will get between 45.3% and 53.2% percent of the vote\n"
     ]
    },
    {
     "data": {
      "image/png": "[encoded data removed]",
      "text/plain": [
       "<Figure size 1080x360 with 1 Axes>"
      ]
     },
     "metadata": {
      "needs_background": "light"
     },
     "output_type": "display_data"
    }
   ],
   "source": [
    "thinkplot.Cdf(cdfFin)\n",
    "thinkplot.axvline(ciFin[0], color=\"red\")\n",
    "thinkplot.axvline(ciFin[1], color=\"red\")\n",
    "print(\"Fraction of Scenarios where Purple wins is %.1f%% \" % ((1-cdfFin.Prob(.50))*100))\n",
    "print(\"We are 95 percent confident that Purple will get between %.1f%% and %.1f%% percent of the vote\" % (ciFin[0]*100, ciFin[1]*100))"
   ]
  },
  {
   "cell_type": "markdown",
   "metadata": {},
   "source": [
    "## Conclusion:\n",
    "\n",
    "### The probability of the Purple party to win the election is 34.8%."
   ]
  },
  {
   "cell_type": "markdown",
   "metadata": {},
   "source": [
    "### Part 2 - Regression\n",
    "\n",
    "<b>Use the data provided to try to predict the wage. </b>\n",
    "\n",
    "The data is from FIFA rankings for players. You don't need to know anything about soccer or video games for this, so if these values are meaningless to you, just treat them as numbers and you'll be fine. All of the features are rankings are evaluations of how good different soccar players are at different skills."
   ]
  },
  {
   "cell_type": "markdown",
   "metadata": {},
   "source": [
    "#### Answer in English\n",
    "\n",
    "Please fill in (and extend if required) the list here to explain what you did. There are multiple reasonable things you could do to approach this, so please note what you did here. For most people I assume this will be about 3-5 statements - you don't need to explain the internals of things we covered (e.g. if there's a hypothesis test, you don't need to explain how that works), just how you structured your approach to the problem. \n",
    "\n",
    "<ul>\n",
    "<li>\n",
    "<li>\n",
    "<li>\n",
    "</ul>"
   ]
  },
  {
   "cell_type": "code",
   "execution_count": 14,
   "metadata": {},
   "outputs": [
    {
     "data": {
      "text/html": [
       "<div>\n",
       "<style scoped>\n",
       "    .dataframe tbody tr th:only-of-type {\n",
       "        vertical-align: middle;\n",
       "    }\n",
       "\n",
       "    .dataframe tbody tr th {\n",
       "        vertical-align: top;\n",
       "    }\n",
       "\n",
       "    .dataframe thead th {\n",
       "        text-align: right;\n",
       "    }\n",
       "</style>\n",
       "<table border=\"1\" class=\"dataframe\">\n",
       "  <thead>\n",
       "    <tr style=\"text-align: right;\">\n",
       "      <th></th>\n",
       "      <th>wage_eur</th>\n",
       "      <th>attacking_crossing</th>\n",
       "      <th>attacking_finishing</th>\n",
       "      <th>attacking_heading_accuracy</th>\n",
       "      <th>attacking_short_passing</th>\n",
       "      <th>attacking_volleys</th>\n",
       "      <th>skill_dribbling</th>\n",
       "      <th>skill_curve</th>\n",
       "      <th>skill_fk_accuracy</th>\n",
       "      <th>skill_long_passing</th>\n",
       "      <th>...</th>\n",
       "      <th>power_long_shots</th>\n",
       "      <th>mentality_aggression</th>\n",
       "      <th>mentality_interceptions</th>\n",
       "      <th>mentality_positioning</th>\n",
       "      <th>mentality_vision</th>\n",
       "      <th>mentality_penalties</th>\n",
       "      <th>mentality_composure</th>\n",
       "      <th>defending_marking</th>\n",
       "      <th>defending_standing_tackle</th>\n",
       "      <th>defending_sliding_tackle</th>\n",
       "    </tr>\n",
       "  </thead>\n",
       "  <tbody>\n",
       "    <tr>\n",
       "      <th>0</th>\n",
       "      <td>565000</td>\n",
       "      <td>88</td>\n",
       "      <td>95</td>\n",
       "      <td>70</td>\n",
       "      <td>92</td>\n",
       "      <td>88</td>\n",
       "      <td>97</td>\n",
       "      <td>93</td>\n",
       "      <td>94</td>\n",
       "      <td>92</td>\n",
       "      <td>...</td>\n",
       "      <td>94</td>\n",
       "      <td>48</td>\n",
       "      <td>40</td>\n",
       "      <td>94</td>\n",
       "      <td>94</td>\n",
       "      <td>75</td>\n",
       "      <td>96</td>\n",
       "      <td>33</td>\n",
       "      <td>37</td>\n",
       "      <td>26</td>\n",
       "    </tr>\n",
       "    <tr>\n",
       "      <th>1</th>\n",
       "      <td>405000</td>\n",
       "      <td>84</td>\n",
       "      <td>94</td>\n",
       "      <td>89</td>\n",
       "      <td>83</td>\n",
       "      <td>87</td>\n",
       "      <td>89</td>\n",
       "      <td>81</td>\n",
       "      <td>76</td>\n",
       "      <td>77</td>\n",
       "      <td>...</td>\n",
       "      <td>93</td>\n",
       "      <td>63</td>\n",
       "      <td>29</td>\n",
       "      <td>95</td>\n",
       "      <td>82</td>\n",
       "      <td>85</td>\n",
       "      <td>95</td>\n",
       "      <td>28</td>\n",
       "      <td>32</td>\n",
       "      <td>24</td>\n",
       "    </tr>\n",
       "    <tr>\n",
       "      <th>2</th>\n",
       "      <td>290000</td>\n",
       "      <td>87</td>\n",
       "      <td>87</td>\n",
       "      <td>62</td>\n",
       "      <td>87</td>\n",
       "      <td>87</td>\n",
       "      <td>96</td>\n",
       "      <td>88</td>\n",
       "      <td>87</td>\n",
       "      <td>81</td>\n",
       "      <td>...</td>\n",
       "      <td>84</td>\n",
       "      <td>51</td>\n",
       "      <td>36</td>\n",
       "      <td>87</td>\n",
       "      <td>90</td>\n",
       "      <td>90</td>\n",
       "      <td>94</td>\n",
       "      <td>27</td>\n",
       "      <td>26</td>\n",
       "      <td>29</td>\n",
       "    </tr>\n",
       "    <tr>\n",
       "      <th>3</th>\n",
       "      <td>125000</td>\n",
       "      <td>13</td>\n",
       "      <td>11</td>\n",
       "      <td>15</td>\n",
       "      <td>43</td>\n",
       "      <td>13</td>\n",
       "      <td>12</td>\n",
       "      <td>13</td>\n",
       "      <td>14</td>\n",
       "      <td>40</td>\n",
       "      <td>...</td>\n",
       "      <td>12</td>\n",
       "      <td>34</td>\n",
       "      <td>19</td>\n",
       "      <td>11</td>\n",
       "      <td>65</td>\n",
       "      <td>11</td>\n",
       "      <td>68</td>\n",
       "      <td>27</td>\n",
       "      <td>12</td>\n",
       "      <td>18</td>\n",
       "    </tr>\n",
       "    <tr>\n",
       "      <th>4</th>\n",
       "      <td>470000</td>\n",
       "      <td>81</td>\n",
       "      <td>84</td>\n",
       "      <td>61</td>\n",
       "      <td>89</td>\n",
       "      <td>83</td>\n",
       "      <td>95</td>\n",
       "      <td>83</td>\n",
       "      <td>79</td>\n",
       "      <td>83</td>\n",
       "      <td>...</td>\n",
       "      <td>80</td>\n",
       "      <td>54</td>\n",
       "      <td>41</td>\n",
       "      <td>87</td>\n",
       "      <td>89</td>\n",
       "      <td>88</td>\n",
       "      <td>91</td>\n",
       "      <td>34</td>\n",
       "      <td>27</td>\n",
       "      <td>22</td>\n",
       "    </tr>\n",
       "  </tbody>\n",
       "</table>\n",
       "<p>5 rows × 30 columns</p>\n",
       "</div>"
      ],
      "text/plain": [
       "   wage_eur  attacking_crossing  attacking_finishing  \\\n",
       "0    565000                  88                   95   \n",
       "1    405000                  84                   94   \n",
       "2    290000                  87                   87   \n",
       "3    125000                  13                   11   \n",
       "4    470000                  81                   84   \n",
       "\n",
       "   attacking_heading_accuracy  attacking_short_passing  attacking_volleys  \\\n",
       "0                          70                       92                 88   \n",
       "1                          89                       83                 87   \n",
       "2                          62                       87                 87   \n",
       "3                          15                       43                 13   \n",
       "4                          61                       89                 83   \n",
       "\n",
       "   skill_dribbling  skill_curve  skill_fk_accuracy  skill_long_passing  ...  \\\n",
       "0               97           93                 94                  92  ...   \n",
       "1               89           81                 76                  77  ...   \n",
       "2               96           88                 87                  81  ...   \n",
       "3               12           13                 14                  40  ...   \n",
       "4               95           83                 79                  83  ...   \n",
       "\n",
       "   power_long_shots  mentality_aggression  mentality_interceptions  \\\n",
       "0                94                    48                       40   \n",
       "1                93                    63                       29   \n",
       "2                84                    51                       36   \n",
       "3                12                    34                       19   \n",
       "4                80                    54                       41   \n",
       "\n",
       "   mentality_positioning  mentality_vision  mentality_penalties  \\\n",
       "0                     94                94                   75   \n",
       "1                     95                82                   85   \n",
       "2                     87                90                   90   \n",
       "3                     11                65                   11   \n",
       "4                     87                89                   88   \n",
       "\n",
       "   mentality_composure  defending_marking  defending_standing_tackle  \\\n",
       "0                   96                 33                         37   \n",
       "1                   95                 28                         32   \n",
       "2                   94                 27                         26   \n",
       "3                   68                 27                         12   \n",
       "4                   91                 34                         27   \n",
       "\n",
       "   defending_sliding_tackle  \n",
       "0                        26  \n",
       "1                        24  \n",
       "2                        29  \n",
       "3                        18  \n",
       "4                        22  \n",
       "\n",
       "[5 rows x 30 columns]"
      ]
     },
     "execution_count": 14,
     "metadata": {},
     "output_type": "execute_result"
    }
   ],
   "source": [
    "df = pd.read_csv(\"players_20_2.csv\")\n",
    "df.head()"
   ]
  }
 ],
 "metadata": {
  "kernelspec": {
   "display_name": "Python 3.9.12 ('base')",
   "language": "python",
   "name": "python3"
  },
  "language_info": {
   "codemirror_mode": {
    "name": "ipython",
    "version": 3
   },
   "file_extension": ".py",
   "mimetype": "text/x-python",
   "name": "python",
   "nbconvert_exporter": "python",
   "pygments_lexer": "ipython3",
   "version": "3.9.12"
  },
  "orig_nbformat": 4,
  "vscode": {
   "interpreter": {
    "hash": "40d3a090f54c6569ab1632332b64b2c03c39dcf918b08424e98f38b5ae0af88f"
   }
  }
 },
 "nbformat": 4,
 "nbformat_minor": 2
}
